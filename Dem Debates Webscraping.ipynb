{
 "cells": [
  {
   "cell_type": "markdown",
   "metadata": {},
   "source": [
    "# Web scraping debate transcripts\n",
    "## Author: Oliver Gladfelter\n",
    "### Date: Jan 2020"
   ]
  },
  {
   "cell_type": "code",
   "execution_count": 1,
   "metadata": {},
   "outputs": [],
   "source": [
    "import pandas as pd\n",
    "import lxml.html as lh\n",
    "import io\n",
    "import requests\n",
    "from bs4 import BeautifulSoup\n",
    "import re\n",
    "import itertools\n",
    "import matplotlib.pyplot as plt\n",
    "import statsmodels.formula.api as sm\n",
    "import json\n",
    "import os"
   ]
  },
  {
   "cell_type": "markdown",
   "metadata": {},
   "source": [
    "# Function for transcript format 1\n",
    "## June - Sept"
   ]
  },
  {
   "cell_type": "code",
   "execution_count": 2,
   "metadata": {},
   "outputs": [],
   "source": [
    "def scrapeTranscriptFormat1(url):\n",
    "    html = requests.get(url)\n",
    "    html = html.text\n",
    "    bs = BeautifulSoup(html, \"lxml\")\n",
    "    paragraphs = bs.findAll(\"p\")\n",
    "\n",
    "    # remove 'u' tags embedded within each paragraph tag\n",
    "    for paragraph in paragraphs:\n",
    "        try:\n",
    "            paragraph.find('u').decompose()\n",
    "        except:\n",
    "            continue\n",
    "\n",
    "    # Retrieve speaker and speech from each paragraph tag\n",
    "    speaker = []\n",
    "    speech = []\n",
    "    pattern = r'\\[.*?\\]'\n",
    "\n",
    "    for paragraph in paragraphs:\n",
    "        try:\n",
    "            speechText = paragraph.text.replace(u'\\xa0', u'') # remove space\n",
    "            speechText = re.sub(pattern, '', speechText) # remove brackets and their contents\n",
    "            speaker.append(re.search(\"^(.*?):\", speechText).group(1)) # search for speaker name, append to list\n",
    "            speech.append(re.search(\"^(.*):(.*)\", speechText).group(2).strip(\" \")) # search for speaker's speech, append to list\n",
    "        except:\n",
    "            continue\n",
    "\n",
    "    # Convert to dataframe\n",
    "    return pd.DataFrame({'name': speaker, 'speech': speech})"
   ]
  },
  {
   "cell_type": "markdown",
   "metadata": {},
   "source": [
    "# Function transcript format 2\n",
    "## Oct - Jan"
   ]
  },
  {
   "cell_type": "code",
   "execution_count": 2,
   "metadata": {},
   "outputs": [],
   "source": [
    "def scrapeTranscriptFormat2(url):\n",
    "    html = requests.get(url)\n",
    "    html = html.text\n",
    "    bs = BeautifulSoup(html, \"lxml\")\n",
    "    paragraphs = bs.findAll(\"p\")\n",
    "\n",
    "    # remove 'u' tags embedded within each paragraph tag\n",
    "    for paragraph in paragraphs:\n",
    "        try:\n",
    "            paragraph.find('a').decompose()\n",
    "        except:\n",
    "            continue\n",
    "\n",
    "    # Retrieve speaker and speech from each paragraph tag\n",
    "    speaker = []\n",
    "    speech = []\n",
    "    pattern = r'\\[.*?\\]'\n",
    "\n",
    "    for paragraph in paragraphs:\n",
    "        try:\n",
    "            speechText = paragraph.text.replace(u'()', u'') # remove space\n",
    "            speechText = re.sub(pattern, '', speechText) # remove brackets and their contents\n",
    "            speaker.append(re.search(\"^(.*?):\", speechText).group(1)) # search for speaker name, append to list\n",
    "            speech.append(re.search(\"^(.*):(.*)\", speechText).group(2).strip(\" \")) # search for speaker's speech, append to list\n",
    "        except:\n",
    "            continue\n",
    "\n",
    "    # Convert to dataframe\n",
    "    return pd.DataFrame({'name': speaker, 'speech': speech})"
   ]
  },
  {
   "cell_type": "markdown",
   "metadata": {},
   "source": [
    "# Scrape 'em"
   ]
  },
  {
   "cell_type": "code",
   "execution_count": null,
   "metadata": {},
   "outputs": [],
   "source": [
    "june1 = scrapeTranscriptFormat1(\"https://www.rev.com/blog/transcript-from-first-night-of-democratic-debates\")\n",
    "june2 = scrapeTranscriptFormat1(\"https://www.rev.com/blog/transcript-from-night-2-of-the-2019-democratic-debates\")\n",
    "july1 = scrapeTranscriptFormat1(\"https://www.rev.com/blog/transcript-of-july-democratic-debate-night-1-full-transcript-july-30-2019\")\n",
    "july2 = scrapeTranscriptFormat1(\"https://www.rev.com/blog/transcript-of-july-democratic-debate-2nd-round-night-2-full-transcript-july-31-2019\")\n",
    "sept = scrapeTranscriptFormat1(\"https://www.rev.com/blog/democratic-debate-transcript-houston-september-12-2019\")\n",
    "october = scrapeTranscriptFormat2(\"https://www.rev.com/blog/october-democratic-debate-transcript-4th-debate-from-ohio\")\n",
    "nov = scrapeTranscriptFormat2(\"https://www.rev.com/blog/november-democratic-debate-transcript-atlanta-debate-transcript\")\n",
    "dec = scrapeTranscriptFormat2(\"https://www.rev.com/blog/december-democratic-debate-transcript-sixth-debate-from-los-angeles\")\n",
    "jan = scrapeTranscriptFormat2(\"https://www.rev.com/blog/transcripts/january-iowa-democratic-debate-transcript\")\n",
    "\n",
    "june1['month'] = 'June'\n",
    "june2['month'] = 'June'\n",
    "july1['month'] = 'July'\n",
    "july2['month'] = 'July'\n",
    "sept['month'] = 'Sept'\n",
    "october['month'] = 'Oct'\n",
    "nov['month'] = 'Nov'\n",
    "dec['month'] = 'Dec'\n",
    "jan['month'] = 'Jan'\n",
    "\n",
    "df = pd.concat([june1, june2, july1, july2, sept, october, nov, dec, jan])\n",
    "df.to_csv(os.getcwd() + \"\\\\Documents\\\\DemDebateTranscripts.csv\",index=False)"
   ]
  },
  {
   "cell_type": "markdown",
   "metadata": {},
   "source": [
    "# Trump 2019-2020 Rallies Transcript Scrape"
   ]
  },
  {
   "cell_type": "code",
   "execution_count": 21,
   "metadata": {},
   "outputs": [],
   "source": [
    "rally1 = scrapeTranscriptFormat2(\"https://www.rev.com/blog/transcripts/donald-trump-maga-event-speech-transcript-north-carolina-rally\")\n",
    "rally2 = scrapeTranscriptFormat2(\"https://www.rev.com/blog/transcripts/donald-trump-ohio-rally-speech-transcript-full-transcript-of-august-1-2019-rally-in-cincinnati\")\n",
    "rally3 = scrapeTranscriptFormat2(\"https://www.rev.com/blog/transcripts/donald-trump-new-hampshire-rally-transcript-august-15-2019\")\n",
    "rally4 = scrapeTranscriptFormat2(\"https://www.rev.com/blog/transcripts/donald-trump-north-carolina-rally-transcript-in-fayetteville-nc-september-9-2019\")\n",
    "rally5 = scrapeTranscriptFormat2(\"https://www.rev.com/blog/transcripts/donald-trump-new-mexico-rally-transcript-full-speech-transcript\")\n",
    "rally6 = scrapeTranscriptFormat2(\"https://www.rev.com/blog/transcripts/donald-trump-minnesota-rally-speech-transcript-minneapolis-mn-rally-october-10-2019\")\n",
    "rally7 = scrapeTranscriptFormat2(\"https://www.rev.com/blog/transcripts/donald-trump-dallas-rally-speech-transcript-october-17-2019\")\n",
    "rally8 = scrapeTranscriptFormat2(\"https://www.rev.com/blog/transcripts/donald-trump-mississippi-rally-speech-transcript-2019-rally-in-tupelo-mississippi\")\n",
    "rally9 = scrapeTranscriptFormat2(\"https://www.rev.com/blog/transcripts/donald-trump-kentucky-rally-speech-transcript-lexington-kentucky-rally\")\n",
    "rally10 = scrapeTranscriptFormat2(\"https://www.rev.com/blog/transcripts/donald-trump-hershey-pennsylvania-rally-transcript-december-10-2019\")\n",
    "rally11 = scrapeTranscriptFormat2(\"https://www.rev.com/blog/transcripts/donald-trump-michigan-rally-transcript-trump-holds-a-rally-in-battle-creek-during-impeachment\")\n",
    "rally12 = scrapeTranscriptFormat2(\"https://www.rev.com/blog/transcripts/donald-trump-ohio-campaign-rally-transcript-transcript-of-toledo-ohio-rally\")\n",
    "rally13 = scrapeTranscriptFormat2(\"https://www.rev.com/blog/transcripts/donald-trump-milwaukee-rally-transcript-trump-holds-rally-during-iowa-democratic-debate\")\n",
    "rally14 = scrapeTranscriptFormat2(\"https://www.rev.com/blog/transcripts/donald-trump-new-jersey-rally-speech-transcript-trump-holds-rally-in-wildwood-nj\")\n",
    "rally15 = scrapeTranscriptFormat2(\"https://www.rev.com/blog/transcripts/donal-trump-iowa-rally-transcript-trump-holds-rally-in-des-moines-iowa\")"
   ]
  },
  {
   "cell_type": "code",
   "execution_count": 25,
   "metadata": {},
   "outputs": [],
   "source": [
    "data = pd.concat([rally1,rally2,rally3,rally4,rally5,rally6,rally7,rally8,rally9,rally10,rally11,rally12,rally13,rally14,rally15]).reset_index()\n",
    "del data['index']\n",
    "\n",
    "data.to_csv(os.getcwd() + \"\\\\Documents\\\\TrumpRallies.csv\",index=False)"
   ]
  }
 ],
 "metadata": {
  "kernelspec": {
   "display_name": "Python 3",
   "language": "python",
   "name": "python3"
  },
  "language_info": {
   "codemirror_mode": {
    "name": "ipython",
    "version": 3
   },
   "file_extension": ".py",
   "mimetype": "text/x-python",
   "name": "python",
   "nbconvert_exporter": "python",
   "pygments_lexer": "ipython3",
   "version": "3.7.3"
  }
 },
 "nbformat": 4,
 "nbformat_minor": 2
}
