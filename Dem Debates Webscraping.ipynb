{
 "cells": [
  {
   "cell_type": "code",
   "execution_count": 172,
   "metadata": {},
   "outputs": [],
   "source": [
    "import pandas as pd\n",
    "import lxml.html as lh\n",
    "import io\n",
    "import requests\n",
    "from bs4 import BeautifulSoup\n",
    "import re\n",
    "import itertools\n",
    "import matplotlib.pyplot as plt\n",
    "import statsmodels.formula.api as sm\n",
    "import json\n",
    "import os"
   ]
  },
  {
   "cell_type": "markdown",
   "metadata": {},
   "source": [
    "# Function for transcript format 1\n",
    "## June - Sept"
   ]
  },
  {
   "cell_type": "code",
   "execution_count": 196,
   "metadata": {},
   "outputs": [],
   "source": [
    "def scrapeTranscriptFormat1(url):\n",
    "    html = requests.get(url)\n",
    "    html = html.text\n",
    "    bs = BeautifulSoup(html, \"lxml\")\n",
    "    paragraphs = bs.findAll(\"p\")\n",
    "\n",
    "    # remove 'u' tags embedded within each paragraph tag\n",
    "    for paragraph in paragraphs:\n",
    "        try:\n",
    "            paragraph.find('u').decompose()\n",
    "        except:\n",
    "            continue\n",
    "\n",
    "    # Retrieve speaker and speech from each paragraph tag\n",
    "    speaker = []\n",
    "    speech = []\n",
    "    pattern = r'\\[.*?\\]'\n",
    "\n",
    "    for paragraph in paragraphs:\n",
    "        try:\n",
    "            speechText = paragraph.text.replace(u'\\xa0', u'') # remove space\n",
    "            speechText = re.sub(pattern, '', speechText) # remove brackets and their contents\n",
    "            speaker.append(re.search(\"^(.*?):\", speechText).group(1)) # search for speaker name, append to list\n",
    "            speech.append(re.search(\"^(.*):(.*)\", speechText).group(2).strip(\" \")) # search for speaker's speech, append to list\n",
    "        except:\n",
    "            #print(paragraph.text)\n",
    "            continue\n",
    "\n",
    "    # Convert to dataframe\n",
    "    return pd.DataFrame({'name': speaker, 'speech': speech})"
   ]
  },
  {
   "cell_type": "markdown",
   "metadata": {},
   "source": [
    "# Function transcript format 2\n",
    "## Oct - Dec"
   ]
  },
  {
   "cell_type": "code",
   "execution_count": 197,
   "metadata": {},
   "outputs": [],
   "source": [
    "def scrapeTranscriptFormat2(url):\n",
    "    html = requests.get(url)\n",
    "    html = html.text\n",
    "    bs = BeautifulSoup(html, \"lxml\")\n",
    "    paragraphs = bs.findAll(\"p\")\n",
    "\n",
    "    # remove 'u' tags embedded within each paragraph tag\n",
    "    for paragraph in paragraphs:\n",
    "        try:\n",
    "            paragraph.find('a').decompose()\n",
    "        except:\n",
    "            continue\n",
    "\n",
    "    # Retrieve speaker and speech from each paragraph tag\n",
    "    speaker = []\n",
    "    speech = []\n",
    "    pattern = r'\\[.*?\\]'\n",
    "\n",
    "    for paragraph in paragraphs:\n",
    "        try:\n",
    "            speechText = paragraph.text.replace(u'()', u'') # remove space\n",
    "            speechText = re.sub(pattern, '', speechText) # remove brackets and their contents\n",
    "            speaker.append(re.search(\"^(.*?):\", speechText).group(1)) # search for speaker name, append to list\n",
    "            speech.append(re.search(\"^(.*):(.*)\", speechText).group(2).strip(\" \")) # search for speaker's speech, append to list\n",
    "        except:\n",
    "            #print(paragraph.text)\n",
    "            continue\n",
    "\n",
    "    # Convert to dataframe\n",
    "    return pd.DataFrame({'name': speaker, 'speech': speech})"
   ]
  },
  {
   "cell_type": "markdown",
   "metadata": {},
   "source": [
    "# Scrape 'em"
   ]
  },
  {
   "cell_type": "code",
   "execution_count": null,
   "metadata": {},
   "outputs": [],
   "source": [
    "june1 = scrapeTranscriptFormat1(\"https://www.rev.com/blog/transcript-from-first-night-of-democratic-debates\")\n",
    "june2 = scrapeTranscriptFormat1(\"https://www.rev.com/blog/transcript-from-night-2-of-the-2019-democratic-debates\")\n",
    "\n",
    "july1 = scrapeTranscriptFormat1(\"https://www.rev.com/blog/transcript-of-july-democratic-debate-night-1-full-transcript-july-30-2019\")\n",
    "july2 = scrapeTranscriptFormat1(\"https://www.rev.com/blog/transcript-of-july-democratic-debate-2nd-round-night-2-full-transcript-july-31-2019\")\n",
    "\n",
    "sept = scrapeTranscriptFormat1(\"https://www.rev.com/blog/democratic-debate-transcript-houston-september-12-2019\")\n",
    "\n",
    "october = scrapeTranscriptFormat2(\"https://www.rev.com/blog/october-democratic-debate-transcript-4th-debate-from-ohio\")\n",
    "\n",
    "nov = scrapeTranscriptFormat2(\"https://www.rev.com/blog/november-democratic-debate-transcript-atlanta-debate-transcript\")\n",
    "\n",
    "dec = scrapeTranscriptFormat2(\"https://www.rev.com/blog/december-democratic-debate-transcript-sixth-debate-from-los-angeles\")"
   ]
  },
  {
   "cell_type": "code",
   "execution_count": 199,
   "metadata": {},
   "outputs": [],
   "source": [
    "june1['month'] = 'June'\n",
    "june2['month'] = 'June'\n",
    "\n",
    "july1['month'] = 'July'\n",
    "july2['month'] = 'July'\n",
    "\n",
    "sept['month'] = 'Sept'\n",
    "\n",
    "october['month'] = 'Oct'\n",
    "\n",
    "nov['month'] = 'Nov'\n",
    "\n",
    "dec['month'] = 'Dec'"
   ]
  },
  {
   "cell_type": "code",
   "execution_count": 200,
   "metadata": {},
   "outputs": [],
   "source": [
    "df = pd.concat([june1, june2, july1, july2, sept, october, nov, dec])"
   ]
  },
  {
   "cell_type": "code",
   "execution_count": 202,
   "metadata": {},
   "outputs": [],
   "source": [
    "df.to_csv(os.getcwd() + \"\\\\Documents\\\\DemDebateTranscripts.csv\",index=False)"
   ]
  }
 ],
 "metadata": {
  "kernelspec": {
   "display_name": "Python 3",
   "language": "python",
   "name": "python3"
  },
  "language_info": {
   "codemirror_mode": {
    "name": "ipython",
    "version": 3
   },
   "file_extension": ".py",
   "mimetype": "text/x-python",
   "name": "python",
   "nbconvert_exporter": "python",
   "pygments_lexer": "ipython3",
   "version": "3.7.3"
  }
 },
 "nbformat": 4,
 "nbformat_minor": 2
}
