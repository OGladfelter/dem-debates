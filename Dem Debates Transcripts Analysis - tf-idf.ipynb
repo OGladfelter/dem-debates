{
 "cells": [
  {
   "cell_type": "code",
   "execution_count": 373,
   "metadata": {},
   "outputs": [],
   "source": [
    "import pandas as pd\n",
    "import lxml.html as lh\n",
    "import io\n",
    "import requests\n",
    "from bs4 import BeautifulSoup\n",
    "import re\n",
    "import itertools\n",
    "import matplotlib.pyplot as plt\n",
    "import statsmodels.formula.api as sm\n",
    "import json\n",
    "import string\n",
    "\n",
    "import math\n",
    "from textblob import TextBlob as tb\n",
    "import nltk\n",
    "from nltk.corpus import stopwords \n",
    "from nltk.tokenize import word_tokenize \n",
    "\n",
    "def tf(word, blob):\n",
    "    return blob.words.count(word) / len(blob.words)\n",
    "\n",
    "def n_containing(word, bloblist):\n",
    "    return sum(1 for blob in bloblist if word in blob.words)\n",
    "\n",
    "def idf(word, bloblist):\n",
    "    return math.log(len(bloblist) / (1 + n_containing(word, bloblist)))\n",
    "\n",
    "def tfidf(word, blob, bloblist):\n",
    "    return tf(word, blob) * idf(word, bloblist)\n",
    "\n",
    "df = pd.read_csv(\"DemDebateTranscripts.csv\")\n",
    "jan = pd.read_csv(\"DemDebateTranscriptsJan.csv\")\n",
    "df = pd.concat([df,jan])"
   ]
  },
  {
   "cell_type": "code",
   "execution_count": 377,
   "metadata": {},
   "outputs": [],
   "source": [
    "# condensing name variations\n",
    "name_variations = {\"name\": \n",
    "                   {\n",
    "                       \"Senator Warren\":\"Elizabeth Warren\", \"Elizabeth W.\":\"Elizabeth Warren\", \"Sen. Warren\":\"Elizabeth Warren\", \n",
    "                       \"E. Warren\":\"Elizabeth Warren\", \"Elizabeth W\":\"Elizabeth Warren\",\n",
    "                       \"Julian Castro\":\"Julián Castro\",\n",
    "                       \"Williamson\":\"Marianne Williamson\", \"Marianne W.\":\"Marianne Williamson\", 'Ms. Williamson': \"Marianne Williamson\",\n",
    "                       \"John H\":\"John Hickenlooper\", \"John H.\":\"John Hickenlooper\", \"John Hickenloop\":\"John Hickenlooper\",\n",
    "                       \"Yang\": \"Andrew Yang\", \"Sen Klobuchar\":\"Amy Klobuchar\",\n",
    "                       \"Kirsten G.\":\"Kirsten Gillibrand\", \"Kristen Gillibr\":\"Kirsten Gillibrand\", \"Gillibrand\":\"Kirsten Gillibrand\",\n",
    "                       \"Bennett\":\"Michael Bennett\", \"Senator Bennet\":\"Michael Bennett\", \"Michael Bennet\":\"Michael Bennett\",\n",
    "                       'Senator Booker':\"Cory Booker\", \"Corey Booker\":\"Cory Booker\",\n",
    "                       'Mayor Buttigieg': \"Pete Buttigieg\", \"Eric Stalwell\":\"Eric Swalwell\",\n",
    "                       'Mayor de Blasio':\"Bill de Blasio\", \"Bill De Blasio\":\"Bill de Blasio\",\n",
    "                       \"Speaker 14\":\"Other\", \"Speaker 15\":\"Other\", \"Speaker 16\":\"Other\", \"Speaker 17\":\"Other\", \"Speaker 18\":\"Other\",\n",
    "                       \"Speaker 19\":\"Other\", \"Speaker 20\":\"Other\", \"Speaker 21\":\"Other\", \"Speaker 23\":\"Other\",\n",
    "                       \"Female\":\"Other\", \"Male\":\"Other\", \"Audience\":\"Other\", \"Speaker 26\":\"Other\", \"Speaker 30\":\"Other\",\n",
    "                       \"Speaker 31\":\"Other\", \"Speaker 2\":\"Other\", \"Speaker 3\":\"Other\", \"Speaker 4\":\"Other\", \"Speaker 5\":\"Other\", \n",
    "                       \"Speaker 6\":\"Other\", \"Speaker 7\":\"Other\", \"Speaker 8\":\"Other\", \"Speaker 1\":\"Other\",  \n",
    "                       \"Lester Holt\":\"Moderator\", \"Savannah\":\"Moderator\", \"Rachel Maddow\":\"Moderator\", \"Chuck Todd\":\"Moderator\",\n",
    "                       \"Savannah G.\":\"Moderator\", \"Jose\":\"Moderator\", \"Steve Kornacki\":\"Moderator\", \n",
    "                       \"Voiceover\": \"Other\", \"Speaker 13\":\"Other\",\n",
    "                       \"Crowd\": \"Remove\",\n",
    "                       \"  › Blog › Political Transcripts › October Democratic Debate Transcript\":\"Remove\",\n",
    "                       \"  › Blog › Political Transcripts › December Democratic Debate Transcript\":\"Remove\",\n",
    "                       \" Rev › Blog › Political Transcripts › Transcript of July Democratic Debate 2nd Round Night 1\":\"Remove\",\n",
    "                       \" Rev › Blog › Political Transcripts › Transcript of July Democratic Debate 2nd Round, Night 2\":\"Remove\",\n",
    "                       'Jake Tapper':\"Moderator\", 'Diana':\"Moderator\", 'Stephanie Sy':\"Moderator\",\n",
    "                       'Dana Bash':\"Moderator\", 'Don Lemon':\"Moderator\", 'Yamiche A.':\"Moderator\",\n",
    "                       'Anderson Cooper':\"Moderator\", 'John King':\"Moderator\", 'Henderson':\"Moderator\", \n",
    "                       'George S':\"Moderator\", 'Jorge Ramos':\"Moderator\",\n",
    "                       'David Muir':\"Moderator\", 'Lindsey Davis':\"Moderator\", 'George S.':\"Moderator\",\n",
    "                       'Erin Burnett':\"Moderator\", 'Marc Lacey':\"Moderator\", 'A. Cooper':\"Moderator\",\n",
    "                       'Andrea Mitchell':\"Moderator\", 'Kristen Welker':\"Moderator\", 'Ashley Parker':\"Moderator\",\n",
    "                       'Libby Casey':\"Moderator\", 'Judy Woodruff':\"Moderator\", 'Amy Walter':\"Moderator\",\n",
    "                       'Tim Alberta':\"Moderator\", 'Amna':\"Moderator\", 'Amna Nawaz':\"Moderator\", 'Yamiche':\"Moderator\", \n",
    "                       'Tim':\"Moderator\", 'Judy':\"Moderator\"\n",
    "                       \n",
    "                   }\n",
    "                }\n",
    "                      \n",
    "df.replace(name_variations, inplace=True)"
   ]
  },
  {
   "cell_type": "code",
   "execution_count": 378,
   "metadata": {},
   "outputs": [],
   "source": [
    "df = df[df['name']!='Remove']\n",
    "df = df[df['name']!='Other']"
   ]
  },
  {
   "cell_type": "markdown",
   "metadata": {},
   "source": [
    "# Pull out speech for just one candidate and transform into one string"
   ]
  },
  {
   "cell_type": "code",
   "execution_count": 169,
   "metadata": {},
   "outputs": [],
   "source": [
    "def getSpeech(name):\n",
    "    candidate = df[df['name']==name].reset_index()\n",
    "\n",
    "    # concat all rows of dialogue into one long string\n",
    "    candidateSpeech = \"\"\n",
    "\n",
    "    for row in range(0,len(candidate)):\n",
    "        candidateSpeech = candidateSpeech + \" \" + candidate['speech'][row]\n",
    "    return candidateSpeech\n",
    "    # remove puncutation and extra space\n",
    "    candidateSpeech = candidateSpeech.translate(str.maketrans('', '', string.punctuation))\n",
    "    candidateSpeech = candidateSpeech.strip(\" \")\n",
    "    \n",
    "    return candidateSpeech\n",
    "    # remove stop words\n",
    "    stop_words = set(stopwords.words('english')) \n",
    "  \n",
    "    word_tokens = word_tokenize(candidateSpeech) \n",
    "\n",
    "    filtered_sentence = [w for w in word_tokens if not w in stop_words] \n",
    "\n",
    "    filtered_sentence = [] \n",
    "\n",
    "    for w in word_tokens: \n",
    "        if w not in stop_words: \n",
    "            filtered_sentence.append(w)\n",
    "            \n",
    "    # removing stop words transformed speech into a list\n",
    "    # convery back into one long string\n",
    "    return ' '.join(word.lower() for word in filtered_sentence)"
   ]
  },
  {
   "cell_type": "markdown",
   "metadata": {},
   "source": [
    "# Use only candidates who were in at least 3 debates:\n",
    "Biden, Warren, Sanders, Buttigieg, Harris, Klobuchar, Booker, O'Rourke, Castro, Yang, Gabbard, Steyer (and maybe Marianne Williamson for kicks)"
   ]
  },
  {
   "cell_type": "code",
   "execution_count": 333,
   "metadata": {},
   "outputs": [],
   "source": [
    "candidates = [\"Joe Biden\", \"Elizabeth Warren\", \"Bernie Sanders\", \"Pete Buttigieg\", \"Kamala Harris\", \"Amy Klobuchar\", \"Cory Booker\", \"Beto O'Rourke\", \"Julian Castro\", \"Andrew Yang\", \"Tulsi Gabbard\", \"Tom Steyer\"]\n",
    "candidates.sort()"
   ]
  },
  {
   "cell_type": "code",
   "execution_count": 347,
   "metadata": {},
   "outputs": [
    {
     "data": {
      "text/plain": [
       "array(['Moderator', 'Elizabeth Warren', 'Amy Klobuchar', 'Beto O’Rourke',\n",
       "       'Cory Booker', 'Julián Castro', 'Tulsi Gabbard', 'Bill de Blasio',\n",
       "       'John Delaney', 'Jay Inslee', 'Tim Ryan', 'Bernie Sanders',\n",
       "       'Michael Bennett', 'Joe Biden', 'Kamala Harris',\n",
       "       'John Hickenlooper', 'Kirsten Gillibrand', 'Pete Buttigieg',\n",
       "       'Eric Swalwell', 'Andrew Yang', 'Marianne Williamson',\n",
       "       'Steve Bullock', 'Tom Steyer'], dtype=object)"
      ]
     },
     "execution_count": 347,
     "metadata": {},
     "output_type": "execute_result"
    }
   ],
   "source": [
    "df['name'].unique()"
   ]
  },
  {
   "cell_type": "code",
   "execution_count": 379,
   "metadata": {},
   "outputs": [],
   "source": [
    "amy = getSpeech(\"Amy Klobuchar\")\n",
    "yang = getSpeech(\"Andrew Yang\")\n",
    "sanders = getSpeech(\"Bernie Sanders\")\n",
    "beto = getSpeech(\"Beto O’Rourke\")\n",
    "booker = getSpeech(\"Cory Booker\")\n",
    "warren = getSpeech(\"Elizabeth Warren\")\n",
    "biden = getSpeech(\"Joe Biden\")\n",
    "castro = getSpeech(\"Julián Castro\")\n",
    "harris = getSpeech(\"Kamala Harris\")\n",
    "buttigieg = getSpeech(\"Pete Buttigieg\")\n",
    "steyer = getSpeech(\"Tom Steyer\")\n",
    "gabbard = getSpeech(\"Tulsi Gabbard\")"
   ]
  },
  {
   "cell_type": "code",
   "execution_count": 380,
   "metadata": {},
   "outputs": [],
   "source": [
    "corpus = {'Klobuchar': amy, 'Yang': yangSpeech, 'Sanders':sanders, 'Beto':beto, 'Booker':booker, 'Warren': warren, 'Biden':biden, 'Castro':castro, 'Harris':harris, 'Buttigieg':buttigieg, 'Steyer':steyer, 'Gabbard':gabbard}"
   ]
  },
  {
   "cell_type": "code",
   "execution_count": 537,
   "metadata": {},
   "outputs": [],
   "source": [
    "from sklearn.feature_extraction.text import TfidfVectorizer\n",
    "from sklearn.feature_extraction import text\n",
    "my_stop_words = text.ENGLISH_STOP_WORDS.union([\"donald\", \"trump\", \"ve\", \"got\"])\n",
    "\n",
    "tfidf = TfidfVectorizer(stop_words = my_stop_words, ngram_range=(2,2))\n",
    "tfs = tfidf.fit_transform(corpus.values())\n",
    "\n",
    "feature_names = tfidf.get_feature_names()\n",
    "corpus_index = [n for n in corpus]\n",
    "rows, cols = tfs.nonzero()\n",
    "\n",
    "data = pd.DataFrame(tfs.T.todense(), index=feature_names, columns=corpus_index)"
   ]
  },
  {
   "cell_type": "code",
   "execution_count": 538,
   "metadata": {},
   "outputs": [
    {
     "data": {
      "text/html": [
       "<div>\n",
       "<style scoped>\n",
       "    .dataframe tbody tr th:only-of-type {\n",
       "        vertical-align: middle;\n",
       "    }\n",
       "\n",
       "    .dataframe tbody tr th {\n",
       "        vertical-align: top;\n",
       "    }\n",
       "\n",
       "    .dataframe thead th {\n",
       "        text-align: right;\n",
       "    }\n",
       "</style>\n",
       "<table border=\"1\" class=\"dataframe\">\n",
       "  <thead>\n",
       "    <tr style=\"text-align: right;\">\n",
       "      <th></th>\n",
       "      <th>index</th>\n",
       "      <th>Gabbard</th>\n",
       "    </tr>\n",
       "  </thead>\n",
       "  <tbody>\n",
       "    <tr>\n",
       "      <th>0</th>\n",
       "      <td>regime change</td>\n",
       "      <td>0.250389</td>\n",
       "    </tr>\n",
       "    <tr>\n",
       "      <th>1</th>\n",
       "      <td>change war</td>\n",
       "      <td>0.188652</td>\n",
       "    </tr>\n",
       "    <tr>\n",
       "      <th>2</th>\n",
       "      <td>al qaeda</td>\n",
       "      <td>0.147288</td>\n",
       "    </tr>\n",
       "    <tr>\n",
       "      <th>3</th>\n",
       "      <td>change wars</td>\n",
       "      <td>0.102901</td>\n",
       "    </tr>\n",
       "    <tr>\n",
       "      <th>4</th>\n",
       "      <td>commander chief</td>\n",
       "      <td>0.097585</td>\n",
       "    </tr>\n",
       "    <tr>\n",
       "      <th>5</th>\n",
       "      <td>national security</td>\n",
       "      <td>0.096688</td>\n",
       "    </tr>\n",
       "    <tr>\n",
       "      <th>6</th>\n",
       "      <td>serve commander</td>\n",
       "      <td>0.085751</td>\n",
       "    </tr>\n",
       "    <tr>\n",
       "      <th>7</th>\n",
       "      <td>people country</td>\n",
       "      <td>0.082926</td>\n",
       "    </tr>\n",
       "    <tr>\n",
       "      <th>8</th>\n",
       "      <td>brothers sisters</td>\n",
       "      <td>0.073644</td>\n",
       "    </tr>\n",
       "    <tr>\n",
       "      <th>9</th>\n",
       "      <td>cold war</td>\n",
       "      <td>0.068601</td>\n",
       "    </tr>\n",
       "  </tbody>\n",
       "</table>\n",
       "</div>"
      ],
      "text/plain": [
       "               index   Gabbard\n",
       "0      regime change  0.250389\n",
       "1         change war  0.188652\n",
       "2           al qaeda  0.147288\n",
       "3        change wars  0.102901\n",
       "4    commander chief  0.097585\n",
       "5  national security  0.096688\n",
       "6    serve commander  0.085751\n",
       "7     people country  0.082926\n",
       "8   brothers sisters  0.073644\n",
       "9           cold war  0.068601"
      ]
     },
     "execution_count": 538,
     "metadata": {},
     "output_type": "execute_result"
    }
   ],
   "source": [
    "data.sort_values(\"Gabbard\",ascending=False).head(10)[\"Gabbard\"].reset_index()"
   ]
  },
  {
   "cell_type": "code",
   "execution_count": 542,
   "metadata": {},
   "outputs": [
    {
     "data": {
      "text/plain": [
       "' That’s right. I’m sorry? Oh, so it’s difficult to do if you have companies like Amazon, trillion dollar tech companies paying literally zero in taxes, while they’re closing 30% of our stores. Now, we need to put the American people in a position to benefit from all these innovations in other parts of the economy, and if we had a value added tax at even half the European level, it would generate over $800 billion in new revenue, which combined with the money in our hands, it would be the trickle up economy from our people, families and communities up. We would spend the money and it would circulate through our regional economies and neighborhoods, creating millions of jobs, making our families stronger and healthier. We’d save money on things like incarceration, homelessness services, emergency room healthcare. And just the value gains from having a stronger, healthier, mentally healthier population would increase GDP by $700 billion. This is the move that we have to make, particularly as technology is now automating away millions of American jobs. It’s why Donald Trump is our President today, that we automated away four million manufacturing jobs in Michigan, Ohio and Pennsylvania and Wisconsin. And we’re about to do the same thing to millions of retail jobs, call center jobs, fast food jobs, truck driving jobs, and on and on through the account. Well, the value added tax would end up … you’d still be increasing the buying power of the bottom 94% of Americans. You have to spend a lot of money for a mild value add tax to eat up $12,000 a year per individual. So for the average family with two or three adults, it’d be $24,000 to $36,000 a year. Well, I just want to agree that I think Russia is our greatest geopolitical threat, because they’ve been hacking our democracy successfully, and they’ve been laughing their asses off about it for the last couple of years. So we should focus on that before we start worrying about other threats. Now, China, they do pirate our intellectual property. It’s a massive problem. But the tariffs and the trade war are just punishing businesses and producers and workers on both sides. I met with a farmer in Iowa who said he spent six years building up a buying relationship in China that’s now disappeared and gone forever. And the beneficiaries have not been American workers or people in China. It’s been Southeast Asia and other producers that have then stepped into the void. So we need to crack down on Chinese malfeasance in the trade relationship, but the tariffs and the trade war are the way to go. I would pass a $1,000 freedom dividend for every American adult starting at age 18, which would speed us up on climate change, because if you get the boot off of people’s throats, they’ll focus on climate change much more clearly. China, we need to cooperate with them on climate change, AI, and other issues. North Korea. First, I want to thank everyone who put me on this stage tonight. I am proof that our democracy still works. Democrats and Americans around the country have one question for their nominee, and that is, “Who can beat Donald Trump in 2020?” That is the right question and the right candidate to beat Donald Trump will be solving the problems that got Donald Trump elected, and will have a vision of a trickle-up economy that is already drawing thousands of disaffected Trump voters, conservatives, independents, and libertarians, as well as democrats and progressives. I am that candidate. I can build a much broader coalition to beat Donald Trump. It is not left, it is not right, it is forward, and that is where I’ll talk the country in 2020. If you heard anything about me and my campaign, you’ve heard that someone is running for president who wants to give every American $1,000 a month. I know this may sound like a gimmick but this is a deeply American idea. From Thomas Payne to Martin Luther King to today. Let me tell you why we need to do it and how we pay for it. Why do we need to do it? We already automated away millions of manufacturing jobs and chances are your job could be next. If you don’t believe me, just ask an auto worker here in Detroit. How do we pay for it? Raise your hand in the crowd if you’ve seen stores closing where you live. It is not just you, Amazon is closing 30% of America’s stores and malls and paying zero in taxes while doing it. We need to do the opposite of much of what we’re doing right now. And the opposite of Donald Trump is an Asian man who likes math. So let me share the math. On $1,000 a month for every adult would be $461 million every month right here in Detroit alone. The automation of our jobs is a central challenge facing us today. It is why Donald Trump is our president and any politician not addressing it is failing the American people. I just want to share a story. When I told my wife I was running for president, you know the first question she asked me? What are we going to do about our healthcare? That’s a true story and it’s not just us, Democrats are talking about healthcare in the wrong way. As someone who’s run a business, I can tell you flat out our current healthcare system makes it harder to hire. It makes it harder to treat people well and give them benefits and treat them as full-time employees. It makes it harder to switch jobs, as Senator Harris just said, and it’s certainly a lot harder to start a business. If we say, “Look, we’re going to get healthcare off the backs of businesses and families, then watch American entrepreneurship recover and bloom.” That’s the argument we should be making to the American people. I’m the son of immigrants myself. My father immigrated here as a graduate student and generated over 65 US patents for GE and IBM. I think that’s a pretty good deal for the United States. That’s the immigration story we need to be telling. We can’t always be focusing on some of the distress stories. And if you go to a factory here in Michigan, you will not find wall to wall immigrants. You will find wall to wall robots and machines. Immigrants are being scapegoated for issues they have nothing to do with in our economy. I speak for just about everyone watching when I say I would trust anyone on this stage much more than I would trust our current president on matters of criminal justice. We cannot tear each other down. We have to focus on beating Donald Trump in 2020. I want to share a story that a prison guard, a corrections officer in New Hampshire said to me. He said we should pay people to stay out of jail because we spend so much when they’re behind bars. Right now, we think we’re saving money. We just end up spending the money in much more dark and punitive ways. We should put money directly into people’s hands, certainly, when they come out of prison, but before they go into prison. Well, I’m building a coalition of disaffected Trump voters, independents, libertarians, and conservatives, as well as Democrats and progressives. I believe I’m the candidate best suited to beat Donald Trump. And as for how to win in Michigan and Ohio and Pennsylvania, the problem is that so many people feel like the economy has left them behind. What we have to do is we have to say look, there is record high GDP and stock market prices. You know what else are at record highs? Suicides, drug overdoses, depression, anxiety. It’s gotten so bad that American life expectancy has declined for the last three years. And I like to talk about my wife who’s at home with our two boys right now, one of whom is autistic. What does her work count at in today’s economy? Zero, and we know that’s the opposite of the truth. We know that her work is among the most challenging and vital. The way we win this election is we redefine economic progress to include all the things that matter to the people in Michigan and all of us, like our own health, our well-being, our mental health, our clean air and clean water, how our kids are doing. If we change the measurements for the 21st century economy to revolve around our own well-being, then we will win this election. I have seen firsthand the inequities in the business world where women are concerned, particularly in startups and entrepreneurship. We have to do more at every step. And, if you are a woman entrepreneur, the obstacles start not just at home. But then when you seek a mentor or an investor often they don’t look like you and they might not think your idea is the right one. In order to give women a leg up, what we have to do is we have to think about women in every situation, including the ones who are in exploitative and abusive jobs and relationships around the country. I’m talking about the waitress who’s getting harassed by her boss at the diner, who might have a business idea, but right now is stuck where she is. What we have to do is we have to give women the economic freedom to be able to improve their own situations and start businesses. And the best way to do this is by putting a dividend of $1,000 a month into their hands. It would be a game changer for women around the country because we know that women do more of the unrecognized and uncompensated work in our society. It will not change unless we change it. And I say that’s just what we do. I would move to deescalate tensions in Iran, because they’re responding to the fact that we’ve pulled out of this agreement. And it wasn’t just us and Iran, there were many other world powers that were part of that multilateral agreement. We’d have to try and reenter that agreement, renegotiate the timelines, because the timelines now don’t make as much sense. But I’ve signed a pledge to end the forever wars. Right now our strength abroad reflects our strength at home. What’s happened, really? We’ve fallen apart at home so we elected Donald Trump and now we have this erratic and unpredictable relationship with even our longstanding partners and allies. What we have to do is we have to start investing those resources to solve the problem right here at home. We’ve spent trillions of dollars and lost thousands of American lives in conflicts that had unclear benefits. We’ve been in a constant state of war for 18 years. This is not what the American people want. I would bring the troops home. I would deescalate tensions with Iran. And I would start investing our resources in our own communities. You know what the talking heads couldn’t stop talking about after the last debate? It’s not the fact that I’m somehow number four on this stage in national polling. It was the fact that I wasn’t wearing a tie. Instead of talking about automation and our future, including the fact that we automated away four million manufacturing jobs, hundreds of thousands right here in Michigan. We’re up here with makeup on our faces and our rehearsed attack lines playing roles in this reality TV show. It’s one reason why we elected a reality TV star as our President. We need to be laser focused on solving the real challenges of today, like the fact that the most common job jobs in America may not exist in a decade. Or, that most Americans cannot pay their bills. My flagship proposal, the Freedom Dividend, would put $1,000 a month into the hands of every American adult, be a game changer for millions of American families. If you care more about your family and your kids than my neckwear, enter your zip code at yang2020.com, and see what $1,000 a month would mean to your community. I have done the math. It’s not left. It’s not right. It’s forward. And that is how we’re going to beat Donald Trump in 2020. We’re in the midst of the greatest economic transformation. In America today, everything revolves around the almighty dollar. Our schools, our hospitals, our media, even our government. It’s why we don’t trust our institutions anymore. We have to get our country working for us again, instead of the other way around. We have to see ourselves as the owners and shareholders of this democracy, rather than inputs into a giant machine. When you donate money to a presidential campaign, what happens? The politician spends the money on TV ads and consultants, and you hope it works out. It’s time to trust ourselves more than our politicians. That’s why I’m going to do something unprecedented tonight. My campaign will now give a freedom dividend of $1,000 a month for an entire year to 10 American families. Someone watching this at home right now. If you believe that you can solve your own problems better than any politician, go to yang2020.com and tell us how $1,000 a month will help you do just that. This is how we will get our country working for us again, the American people. Come on, guys. Come on. Look, everyone, we know we’re on the same team here. We know we’re on the same team. We all have a better vision for healthcare than our current president, and I believe we’re talking about this the wrong way. As someone who has a business, I know that our current healthcare system makes it harder to hire people, it makes it harder to give them benefits and treat them as full-time employees. You instead pretend they’re contractors. It’s harder to change jobs. It’s certainly harder to start a business. The pitch we have to make to the American people is we will get the healthcare weight off of your backs and then unleash the hopes and dreams of the American people. Now, I am Asian, so I know a lot of doctors, and they tell me that they spend a lot of time on paperwork, avoiding being sued, and navigating the insurance bureaucracy. We have to change the incentives so instead of revenue and activity people are focused on our health in the healthcare system, and the Cleveland Clinic where they’re paid not based upon how many procedures they prescribe, shocker, they prescribe fewer procedures, and patient health stays the same or improves. That is the pitch to the American people. My father grew up on a peanut farm in Asia with no floor and now his son is running for president. That is the immigration story that we have to be able to share it with the American people. If you look at our history, almost half of Fortune 500 companies were founded by either immigrants or children of immigrants and rates of business formation are much higher in immigrant communities. We have to say to the American people, immigrants are positive for economic and social dynamism. And I would return the level of legal immigration to the point it was under the Obama, Biden administration. I think we have to compete for talent and I am the opposite of Donald Trump in many ways. He says, “Build a wall.” I’m going to say to immigrants, “Come to America, because if you come here, your son or daughter can run for president. The water’s great and this is where you want to build a company, build a family, and build a life.” This country has been a magnet for human capital for generations. If we lose that, we lose something integral to our continued success and that is where I would lead as president. I would not repeal the tariffs on day one, but I would let the Chinese know that we need to hammer out a deal. Because right now the tariffs are pummeling producers and farmers in Iowa who have absolutely nothing to do with the imbalances that we have with China. A CEO friend of mine was in China recently and he said that he saw pirated US intellectual property on worker workstations to the tune of thousands of dollars per head. And he said, “One, how can my workers compete against that? And two, think about all the lost revenue to American companies.” So the imbalances are real, but we have to let the Chinese know that we recognize that president Trump has pursued an arbitrary and haphazard trade policy that has had victims on both sides. So no to repealing the tariffs immediately, but yes, to making sure we come to a deal that addresses the concerns of American companies and American producers. I’ve signed a pledge to end the forever wars. We’ve been in a state of continuous armed conflict for 18 years, which is not what the American people want. We have to start owning what we can and can’t do. We’re not very good at rebuilding countries. And if you want proof, all you have to do is look within our own country at Puerto Rico. We’ve spent trillions of dollars to unclear benefits, lost thousands of lives. And thank you, Pete, for your service. And the goal has to be to rebuild the relationships that have made America strong for decades. I would lead our armed forces with restraint and judgment. What the American people want is simply a president who has the right values and point of view, and they can trust to make the right decisions when it comes to putting our young men and women into harm’s way. And that’s what I would do as president. To follow up on what Elizabeth said, why are we losing to the fossil fuel companies? Why are we losing to the gun lobby and the NRA? The answer is this, we all know, everyone on this stage knows, that our government has been overrun by money and corporate interests. Now everyone here has a plan to try and curb those corporate interests, but we have to face facts. Money finds a way. Money will find its way back in. What is the answer? The answer is to wash the money out with people powered money. My proposal is that we give every American 100 democracy dollars that you can only give to candidates and causes that you like. This would washout the lobbyist cash by a factor of eight to one. That is the only way we will win. As someone running for president I’ll tell you, there’s the people on one side and the money on the other. The only way for us to win is if we bring them together. Let me be clear, I am pro good school. I’ve got a kid … One of my little boys just started public school last week, and I was not there because I was running for president. We need to pay teachers more because the data clearly shows a good teacher is worth his or her weight in gold. We need to lighten up the emphasis on standardized tests, which do not measure anything fundamental about our character or human word. But here’s the big one, the data clearly shows that 65 to 70 percent of our students’ outcomes are determined outside of the school. We’re talking about time spent at home with the parents, words read to them when they’re young, stress levels in the house, income, type of neighborhood. We’re putting money into schools, and educators know this. We’re saying, “You’re 100% responsible for educating our kids but you can only control 30%.” They all know this. The answer is to put money directly into the families and neighborhoods to give our kids a chance to learn, and our teachers a chance to teach. I was an unhappy lawyer for five whole months, and I left to start a business. I’m going to share with you all one of the secrets to entrepreneurship. If you want to start something, tell everyone you know you’re going to do it. Then you don’t have a choice. You put your heart and soul into it. Even though I did that, my company flopped, had its mini rise and maximum fall, lost investors, hundreds of thousands of dollars. Still owed 100,000 in school debt. My parents still told people I was a lawyer. I guess it was a little easier. So, I remember lying on my floor, looking up, wondering how did it come to this, Eventually, I picked myself back up. I kept working in small growth companies for another ten years and eventually had some success. Then after I did have some success, I still remembered how hard it was, how isolating it was, how it feels like your friends no longer want to spend time with you. So, I spent seven years starting and running a nonprofit that helped train young entrepreneurs around the country, including Sean Wen, who’s here in the audience tonight who left his gilded Wall Street job to become a food entrepreneur in San Antonio. Sean, I hope I made the process a little bit easier for you than it was for me. The goal of my campaign is to make this an economy that allows us to live our human values and aspirations. I support impeachment, but we shouldn’t have any illusions that impeaching Donald Trump will one be successful or two, erase the problems that got him elected in 2016. We’re standing in the great state of Ohio, the ultimate purple state, the ultimate bellwether state. Why did Donald Trump win your state by eight points? Because we got rid of 300,000 manufacturing jobs in your towns and we’re not stopping there. How many of you have noticed stores closing where you work and live here in Ohio? Raise your hands. It’s not just you, Amazon alone as closing 30% of America’s stores in malls soaking up $20 billion in business while paying zero in taxes. These are the problems that got Donald Trump elected, the fourth industrial revolution and that is going to accelerate and grow more serious regardless of who is in the Oval Office. The fact is, Donald Trump, when we’re talking about him, we are losing. We need to present a new vision and that even includes talking about impeaching Donald Trump. I am for the spirit of a federal jobs guarantee, but you have to look at how it would actually materialize in practice. What are the jobs? Who manages you? What if you don’t like your job? What if you’re not good at your job? The fact is, most Americans do not want to work for the federal government and saying that that is the vision of the economy of the 21st century, to me, is not a vision that most Americans would embrace. Also, Senator Sanders’ description of a federal jobs guarantee does not take into account the work of people like my wife, who’s at home with our two boys, one of whom is autistic. We have a freedom dividend of $1,000 a month. It actually recognizes the work that is happening in our families and our communities. It helps all Americans transition, because the fact is, and you know this in Ohio, if you rely upon the federal government to target its resources, you wind up with failed retraining programs and jobs that no one wants. When we put the money into our hands, we can build a trickle-up economy from our people, our families, and our communities up. It will enable us to do the kind of work that we want to do. This is the sort of positive vision in response to the Fourth Industrial Revolution that we have to embrace as a party. Senator Warren. I just need to address this. Senator Warren, I’ve been talking- -to Americans around the country about automation, and they’re smart. They see what’s happening around them. Their Main Street stores are closing. They see a self-serve kiosk in every McDonald’s, every grocery store, every CVS. Driving a truck as the most common job in 29 States, including this one. Three and a half million truck drivers in this country, and my friends in California are piloting self driving trucks. What does that going to mean for the three and a half million truckers or the seven million Americans who work in truck stops, motels, and diners that rely upon the truckers getting out and having a meal? Saying this is a rules problem is ignoring the reality that Americans see around us every single day. I have the data. Senator Warren is 100% right that we’re in the midst of the most extreme winner-take-all economy in history, and a wealth tax makes a lot of sense in principle. The problem is that it’s been tried in Germany, France, Denmark, Sweden, and all of those countries ended up repealing it because it had massive implementation problems and did not generate the revenue that they’d projected. If we can’t learn from the failed experiences of other countries, what can we learn from? We should not be looking to other countries’ mistakes. Instead, we should look at what Germany, France, Denmark, and Sweden still have, which is a value-added tax. If we give the American people a tiny slice of every Amazon sale, every Google search, every robot truck mile, every Facebook ad, we can generate hundreds of billions of dollars and then put it into our hands, because we know best how to use it. Of course. We have to look at the chain of events. How did we get here? The fact is, we were falling apart at home, so we voted in Donald Trump, and he’s now led us down this dangerous path with erratic and unreliable foreign policy. We have to let Russia know, “Look, we get it. We’ve tampered with other elections. You’ve tampered with our elections. And now it has to stop. And if it does not stop, we will take this as an act of hostility against the American people.” I believe most Americans would support me on this. artificial intelligence, cybersecurity, climate change, loose nuclear material, military drones and non-state actors. These are the threats that are going to require our administration to catch up in terms of technology. We all know we are decades behind the curve on technology. We saw when Mark Zuckerberg testified at Congress, the nature of the questioning. As Commander in Chief, I will help pull us forward- … and that’s going to be a huge responsibility of the next president. That’s exactly right, and we have to recognize this is a disease of capitalism run amuck. There was a point when there were more opiate prescriptions in the state of Ohio than human beings in the state of Ohio, and for some reason the federal government thought that was appropriate. They ended up levying a $600 million fine against Purdue Pharma, which sounds like a lot of money until you realize that company made $30 billion. They got a 2% fine and they killed tens of thousands of Americans an hour. So if the government turned a blind eye to this company spreading a plague among its people, then the least we can do is put the resources to work in our communities so our people have a fighting chance to get well. Even though this is not a money problem, we all know this is a human problem. Part of helping people get the treatment that they need is to let them know that they’re not going to be referred to a prison cell, they will be referred to treatment and counseling. I talked to an EMT in New Hampshire and he said he saves the same addicts over and over again, because the fact is after you save someone who’s ODing, you just bring them back to their house and they OD again the following week. So we need to decriminalize opiates for personal use. We have to let the country know this is not a personal failing, this was a systemic government failing, and then we need to open up safe consumption and safe injection sites around the country because they save lives. As usual, Senator Warren is 100% right in diagnosing the problem. There are absolutely excesses in technology, and in some cases, having them divest parts of their business is the right move, but we also have to be realistic that competition doesn’t solve all of the problems. It’s not like any of us wants to use the fourth best navigation app, that would be like . There’s a reason why no one is using Bing today. Sorry, Microsoft, it’s true. So it’s not like breaking up these big tech companies will revive main street businesses around the country. And as the parent of two young children, I’m particularly concerned about screen use and its effect on our children. Studies clearly show that we’re seeing record levels of anxiety and depression coincident with smartphone adoption and social media use. Breaking up the tech companies does nothing to make our kids healthier. What we have to do is we have to home in on the specific problems we’re trying to solve and use 21st century solutions for 21st century problems. Using a 20th century antitrust framework will not work. We need new solutions and a new toolkit. That’s the way we can fight back.  The best way we can fight back against big tech companies is to say our data is our property. Right now our data is worth more than oil. How many of you remember getting your data check in the mail? It got lost. It went to Facebook, Amazon, Google. If we say this is our property and we share in the gains that’s the best way we can balance the scales against the big tech companies. First I want to thank all the voters tuned in at home. If you don’t feel like you got your question answered tonight, it’s understandable, there are 12 of us. I’m going to be answering voter questions for 10 straight hours Friday. My website, yang2020.com and if you ask your question tonight, there’s a better chance I’ll get to it. My surprising friendship, it’s been so much fun running for president because I’ve gotten to meet so many Americans I never would have gotten to meet otherwise. The friendship that sticks out for me guy named Fred, who’s an avid Trump supporter, a trucker. He let me ride in his truck for hours. He spent some time in jail. I heard about his experiences trying to get other people off of drugs. And I’m happy to say that after our ride together, he actually said that he would move from Donald Trump to my campaign, which was a thrill for me. And we’ve remained in touch ever since. The truth is that what happened to the 4 million manufacturing workers here in Ohio and Michigan and Pennsylvania and Wisconsin and Iowa did not care about our political party. The fourth industrial revolution is now migrating from manufacturing workers to retail, call centers, transportation, as well as to white collar workers like attorneys, pharmacists, and radiologists. It does not care about our party. Donald Trump had a set of solutions in 2016 and what did he say? He said, we’re going to build a wall. We’re going to turn the clock back. We’re going to bring the old jobs back. America, we have to do the opposite of all of these things. We have to turn the clock forward. We have to accelerate our economy and society as quickly as possible. We have to evolve in the way we think about ourselves and our work and our value. It is not left, it is not right, it is forward and that is where we must take the country in 2020. Well first, I just want to stick up for Tom. We have a broken campaign finance system, but Tom has been spending his own money fighting climate change, and you can’t knock someone for having money and spending it in the right way, my opinion. Yeah, no problem. As Commander in Chief, I think we need to be focused on the real threats of the 21st century. And what are those threats? Climate change, artificial intelligence, loose nuclear material, military drones, and non-state actors. And if you look up, we’re in the process of potentially losing the AI arms race to China right now. Because they have more access to more data than we do, and their government is putting billions of dollars to work subsidizing the development of AI in a way that we are not. We are 24 years behind on technology, and I can say that with authority, because we got rid of the Office of Technology Assessment in 1995. Think about that timing. I guess they thought they’d invented everything. The next Commander in Chief has to be focused on the true threats of tomorrow, and that’s what I’ll bring to the table as commander in chief. There are only two countries in the world that don’t have paid family leave for new moms, the United States of America and Papua New Guinea, that is the entire list and we need to get off this list as soon as possible. I would pass paid family leave is one of the first things we do. I have two kids myself who are four and seven, one of whom is autistic and has special needs and it’s breaking families backs. We need to start supporting our kids and families from the beginning because by the time they’re showing up to Pre-K and kindergarten, in many cases, they’re already years behind. Studies have shown that two thirds of our kids’ educational outcomes are determined by what’s happening to them at home. This is stress levels, number of words, read to them as children type of neighborhood, whether a parent has time to spend with them. So we need to have a freedom dividend in place from day one, $1,000 a month for every American adult, which would put in many cases, $2,000 a month into families pockets so that they can either pay for childcare or if they want stay home with the child. We should not be pushing everyone to leave the home and go to the workforce. Many parents see that trade off and say if they leave the home and work, they’re going to be spending all the money on childcare anyway. In many cases, it’d be better if the parents stays home with the child. Well, first I’d say, “I’m sorry I beat your guy.” Well, not sorry. And second, I would say the days of meddling in American elections are over and we will take any undermining of our democratic processes as an act of hostility and aggression. The American people would back me on this. We know that they’ve found an underbelly and they’ve been clawing at it and it’s made so that we can’t even trust our own democracy. The third thing I would say is that we’re going to live up to our international commitments. We’re going to recommit to our partnerships and alliances including NATO. And it was James Mattis, that said that the more you invest in diplomats and diplomacy, the less you have to spend on ammunition. That has to be the path forward to help build an international consensus, not just against Russia, but also to build a coalition that will help us put pressure on China in terms of their treatment of their ethnic minorities and what’s going on in Hong Kong. I want to propose a new world data organization, like a WTO for data because right now unfortunately we’re living in a world where data is the new oil and we don’t have our arms around it. These are the ways that we’ll actually get Russia to the table and make it so they have to join the international community and stop resisting appeals to the world order. Well, first we have to designate white supremacist terrorism as domestic terrorism so that the Department of Justice can properly measure it. I talked to an anti- hate activist named Christian Picciolini, who told me about how he was radicalized over a 10 year period. He said he was a lonely 14-year-old and that he was reached out to by a hate group and he wound up joining it for a decade. Now, he’s out and he’s helping convert people out of those hate groups and back into the rest of society. But what he told me was that if anyone had reached out to him when he was that hurt, broken 14-year-old boy, he would have gone with them. He said, “If it had been a coach I would have gone with him. If it had been a mentor teacher, I would have gone with them, but instead it was a hate group.” What we have to do is we have to get into the roots of our communities and create paths forward for men in particular, who right now are falling through the cracks. And when you look at gun violence in this country, 96 plus percent of the shooters we’re talking about are young boys and young men. We have to as a country start finding ways to turn our boys into healthy, strong, young men who do not hate, but instead feel like they have paths forward in today’s economy. I’m here with my wife Evelyn, tonight. We have two young boys, Christopher and Damian. How many of you all are parents like us here in the room? If you’re a parent, you’ve had this thought. Maybe you’ve been afraid to express it, and it is this, our kids are not all right. They’re not all right because we’re leaving them a future that is far darker than the lives that we have led as their parents. We are going through the greatest economic transformation in our country’s history, the fourth industrial revolution, and it is pushing more and more of our people to the side. We talk as if Donald Trump is a cause of all of our problems. He is not. He is a symptom and we need to cure the disease. Now, my first move was not to run for president of the United States because I am not insane. My first move was to go to D.C., talk to our leaders and say, “Technology is ripping us apart. Immigrants are being scapegoated, our kids are being left behind and the American dream that my parents came here to find is dying before our eyes.” The people in Washington D.C. had nothing for this. They don’t want to touch it. They don’t want to talk about an issue they don’t think they have a solution for. I’m not running for president because I fantasized about being president. I’m running for president because like many of you here in this room tonight, I’m a parent and a patriot and I have seen the future that we’re leaving for our kids. It is not something I’m willing to accept. We need to create a new way forward for our people. If you want to join us in rewriting the rules of the 21st century economy, go to Yang2020.com, and make it so that we can look our kids in the eyes and say to them and believe it, “Your country loves you, your country values you and you will be all right.” It’s clear why Americans can’t agree on impeachment. We’re getting our news from different sources, and it’s making it hard for us even to agree on basic facts. Congressional approval rating, last I checked, it was something like 17 percent, and Americans don’t trust the media networks to tell them the truth. The media networks didn’t do us any favors by missing a reason why Donald Trump became our president in the first place. If you turn on cable network news today, you would think he’s our president because of some combination of Russia, racism, Facebook, Hillary Clinton, and e-mails all mixed together. But Americans around the country, no different. We blasted away four million manufacturing jobs that were primarily based in Ohio, Michigan, Pennsylvania, Wisconsin, Missouri. I just left Iowa. We blasted 40,000 manufacturing jobs there. The more we act like Donald Trump is the cause of all of our problems, the more Americans lose trust that we can actually see what’s going on in our communities and solve those problems. What we have to do is we have to stop being obsessed over impeachment, which unfortunately strikes many Americans like a ballgame where you know what the score is going to be, and start actually digging in and solving the problems that got Donald Trump elected in the first place. We have to take every opportunity to present a new positive vision for the country, a new way forward to help beat him in 2020, because make no mistake, he’ll be there at the ballot box for us to defeat. Yes. Where I live folks aren’t measuring the economy by how the Dow Jones is looking, they’re measuring the economy by how they’re doing. When you’re doing the bills at the end of the month at your kitchen table, and you find that, even if your wages have gone up, is not nearly going as fast as the cost of health, and how’s… This economy is not working for most of us, for the middle class, and, I know you’re only ever supposed to say middle class and not poor in politics, but we’ve got to talk about poverty in this country. There is not one county in the United States of America where someone working full time at the minimum wage can afford a two bedroom apartment. In most places, not even a one bedroom apartment. The biggest problem in our economy is simple – people are not getting paid enough. That is not the result of some mysterious cosmic force. It’s the result of bad policy, and we’ve got to change it by raising wages and empowering workers. GDP and corporate profits are at record highs in America today. Also at record highs, depression, financial insecurity, student loan debt, even suicides and drug overdoses. It has gotten so bad that our life expectancy as a country has declined for the last three years, because suicides and drug overdoses have overtaken vehicle deaths for the first time in American history. The fact is, this unemployment rate and GDP have very little relationship with people’s lived experience on the ground. If you’re a recent college graduate, you have a 40 percent chance of doing a job that doesn’t require a college degree. That doesn’t show up in the headline unemployment rate, nor does all of the families that are working two or three jobs to get by. Well first we should obviously be paying to relocate Americans away from places that are hit by climate change. We’re already doing it. We relocated a town in Louisiana that became uninhabitable because the sea levels rose. And we know that town is not alone. That’s playing out in coastal areas around the country. The question is, do you leave that town on its own to fend for itself or do you come together as a country and say, “We need to protect our people from climate change?” Part of my plan is literally called move people to higher ground. Because that’s what we need to do and that’s literal and figurative. Here in California, it’s forest fires and forest management. And nuclear power, I agree with the research. We need to have everything on the table in a crisis situation, which this is. Other countries have had success with nuclear power and the next generation Thoriam reactors have a wealth of potential. Thoriam is not radioactive the way uranium is. It doesn’t last as long and you can’t make a weapon out of it. Whereas if we’re going to innovate our way out of this, as Elizabeth is saying, then we have to have nuclear on the table. It’s both an honor and disappointment to be the lone candidate of color on the stage tonight. …Honor and disappointment to be the lone candidate of color on the stage tonight. I miss Kamala. I miss Cory, though I think Cory will be back. I grew up the son of immigrants and I had many racial epithets used against me as a kid, but black and Latinos have something much more powerful working against them than words. They have numbers. The average net worth of a black household is only 10% that of a white household. For Latinos, it’s 12%. If you’re a black woman, you’re 320% more likely to die from complications in childbirth. These are the numbers that define race in our country. And the question is, why am I the lone candidate of color on this stage? Fewer than 5% of Americans donate to political campaigns. You know what you need to donate to political campaigns? Disposable income. The way we fix it… The way we fix this is we take Martin Luther King’s message of a guaranteed minimum income, a freedom dividend of $1,000 a month for all Americans. I guarantee, if we had a freedom dividend of $1,000 a month, I would not be the only candidate of color on this stage tonight. I have family in Hong Kong. I spent four months there and seeing what’s happening on the streets. It’s shocking. They banned face masks in Hong Kong. Why? Because they have AI technology that now is using facial recognition to identify protesters if they so much as do anything on the street so they can follow up with them and detain them later. This is the rivalry that we have to win where China’s concerned. They’re in the process of leapfrogging us in AI because they have more data than we do and their government is subsidizing it to the tune of tens of billions of dollars. I have sat with our leading technologists and they say they cannot match the Chinese resources. China just produced its first major smartphone that does not have Google apps and it is now trying to export its technology to the rest of the world. What we have to do is build an international coalition to set technology standards and then you can bring the Chinese to the table in a very real way because this is their top priority and this is where we need to out compete them and win. Of course, I would. I’m the son of immigrants myself and I know that DREAMers are essentially Americans in everything but this legal classification. I just want to return to this conversation because I think it’s core. Our country is deeply misogynist and most all of us know that. Money and men are tied together. That’s where I thought Elizabeth was taking the conversation. The fact is, strong societies would elect more female leaders. Strong men treat women well for the same reasons. I’m on the record saying that you need both strong men and female leaders in government because the fact is if you get too many men alone and leave us alone for a while, we kind of become morons. So, it’s related to our campaign finance rules because right now the fact is we operate in a fundamentally anti-woman marketplace, and that includes the marketplace for politicians. If we were to put a hundred democracy dollars into the hands of every American voter, instead of 5% contributing, you’d see that rate skyrocket to 50 or 60% and you’d have many, many more women who would run for office because they don’t have to go shake the money tree in the wine cave. I believe everyone on this stage would do the right thing by DREAMers in the first hundred days. I would make it a top priority. I’m the son of immigrants myself. The fact is almost half of fortune 500 companies were started by an immigrant or children of immigrants. Immigrants make our country stronger and more dynamic. And immigrants are being scapegoated for issues they have absolutely nothing to do with. If you go to the factory in Michigan, it’s not wall to wall immigrants. It’s wall to wall robot arms and machines. We have to send the opposite message of this administration and, as your a president, I think I could send a very clear message, where if you’re considering immigrating to this country and I’m the president, you would realize my son or daughter can become president of the United States. That’s the opposite of the current administration and that’s the message I would love to send to the world. I would love it. I have a son with special needs and to me special needs is the new normal in this country. How many of you all have a family member or a friend or a neighbor with special needs or autism? If you look around, most hands went up. The fact is right now we have to do more for Kyle. Special needs children are going to become special needs adults in many cases. And here’s the challenge. We go to employers and say, Hey, this special needs person can be a contributor in your workplace, which may be correct, but that’s not the point. We have to stop confusing economic value in human value. We have to be able to say to our kids and Kyle that you have intrinsic value because you are an American and you are a human being. We’re going to put a freedom dividend of $1,000 a month in everyone’s hands, which is going to help families around the country adapt and then we’re going to take this burden off of the communities and off of the schools who do not have the resources to support kids like my son and make it a federal priority, not a local one. So not not robbing Peter to pay Paul. Wow. I know what you’re thinking. America, how am I still on this stage with them? Our campaign is growing all the time because we are laser focused on solving the real problems that got Donald Trump elected in the first place. I spent seven years helping create thousands of jobs in Detroit, Baltimore, New Orleans and other cities, serving as an ambassador of entrepreneurship under President Obama, and I saw firsthand what many of you already know, our country is falling apart. Our senior citizens are working until the day they die. Our kids are addicted to smartphones or drugs. We’re seeing record high levels of depression, suicides, overdoses. Our companies are recording record profits while our people are literally dying younger. Our way of life is changing faster than ever. And the simple fact is this, our politicians in D C succeed whether we the people succeed or fail. Washington DC today is the richest city in our country. What do they produce? Bad decisions? We need to get the money out of DC and into your hands, the hands of the American people. Join us in Yang2020.com and help us rewrite the rules of the 20th century economy to work for us.'"
      ]
     },
     "execution_count": 542,
     "metadata": {},
     "output_type": "execute_result"
    }
   ],
   "source": [
    "yang"
   ]
  },
  {
   "cell_type": "code",
   "execution_count": null,
   "metadata": {},
   "outputs": [],
   "source": []
  }
 ],
 "metadata": {
  "kernelspec": {
   "display_name": "Python 3",
   "language": "python",
   "name": "python3"
  },
  "language_info": {
   "codemirror_mode": {
    "name": "ipython",
    "version": 3
   },
   "file_extension": ".py",
   "mimetype": "text/x-python",
   "name": "python",
   "nbconvert_exporter": "python",
   "pygments_lexer": "ipython3",
   "version": "3.7.3"
  }
 },
 "nbformat": 4,
 "nbformat_minor": 2
}
