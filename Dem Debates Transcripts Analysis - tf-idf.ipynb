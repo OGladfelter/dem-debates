{
 "cells": [
  {
   "cell_type": "markdown",
   "metadata": {},
   "source": [
    "# tf-idf Text Analysis Of Dem Debate Transcripts\n",
    "## Author: Oliver Gladfelter\n",
    "### Date: Jan 2020"
   ]
  },
  {
   "cell_type": "code",
   "execution_count": 1,
   "metadata": {},
   "outputs": [],
   "source": [
    "import pandas as pd\n",
    "import string\n",
    "\n",
    "import nltk\n",
    "from nltk.corpus import stopwords \n",
    "from nltk.tokenize import word_tokenize \n",
    "from sklearn.feature_extraction.text import TfidfVectorizer\n",
    "from sklearn.feature_extraction import text\n",
    "\n",
    "df = pd.read_csv(\"DemDebateTranscripts.csv\")"
   ]
  },
  {
   "cell_type": "code",
   "execution_count": 2,
   "metadata": {},
   "outputs": [],
   "source": [
    "# condensing name variations\n",
    "name_variations = {\"name\": \n",
    "                   {\n",
    "                       \"Senator Warren\":\"Elizabeth Warren\", \"Elizabeth W.\":\"Elizabeth Warren\", \"Sen. Warren\":\"Elizabeth Warren\", \n",
    "                       \"E. Warren\":\"Elizabeth Warren\", \"Elizabeth W\":\"Elizabeth Warren\",\n",
    "                       \"Julian Castro\":\"Julián Castro\",\n",
    "                       \"Williamson\":\"Marianne Williamson\", \"Marianne W.\":\"Marianne Williamson\", 'Ms. Williamson': \"Marianne Williamson\",\n",
    "                       \"John H\":\"John Hickenlooper\", \"John H.\":\"John Hickenlooper\", \"John Hickenloop\":\"John Hickenlooper\",\n",
    "                       \"Yang\": \"Andrew Yang\", \"Sen Klobuchar\":\"Amy Klobuchar\",\n",
    "                       \"Kirsten G.\":\"Kirsten Gillibrand\", \"Kristen Gillibr\":\"Kirsten Gillibrand\", \"Gillibrand\":\"Kirsten Gillibrand\",\n",
    "                       \"Bennett\":\"Michael Bennett\", \"Senator Bennet\":\"Michael Bennett\", \"Michael Bennet\":\"Michael Bennett\",\n",
    "                       'Senator Booker':\"Cory Booker\", \"Corey Booker\":\"Cory Booker\",\n",
    "                       'Mayor Buttigieg': \"Pete Buttigieg\", \"Eric Stalwell\":\"Eric Swalwell\",\n",
    "                       'Mayor de Blasio':\"Bill de Blasio\", \"Bill De Blasio\":\"Bill de Blasio\",\n",
    "                       \"Speaker 14\":\"Other\", \"Speaker 15\":\"Other\", \"Speaker 16\":\"Other\", \"Speaker 17\":\"Other\", \"Speaker 18\":\"Other\",\n",
    "                       \"Speaker 19\":\"Other\", \"Speaker 20\":\"Other\", \"Speaker 21\":\"Other\", \"Speaker 23\":\"Other\",\n",
    "                       \"Female\":\"Other\", \"Male\":\"Other\", \"Audience\":\"Other\", \"Speaker 26\":\"Other\", \"Speaker 30\":\"Other\",\n",
    "                       \"Speaker 31\":\"Other\", \"Speaker 2\":\"Other\", \"Speaker 3\":\"Other\", \"Speaker 4\":\"Other\", \"Speaker 5\":\"Other\", \n",
    "                       \"Speaker 6\":\"Other\", \"Speaker 7\":\"Other\", \"Speaker 8\":\"Other\", \"Speaker 1\":\"Other\",  \n",
    "                       \"Lester Holt\":\"Moderator\", \"Savannah\":\"Moderator\", \"Rachel Maddow\":\"Moderator\", \"Chuck Todd\":\"Moderator\",\n",
    "                       \"Savannah G.\":\"Moderator\", \"Jose\":\"Moderator\", \"Steve Kornacki\":\"Moderator\", \n",
    "                       \"Voiceover\": \"Other\", \"Speaker 13\":\"Other\",\n",
    "                       \"Crowd\": \"Remove\",\n",
    "                       \"  › Blog › Political Transcripts › October Democratic Debate Transcript\":\"Remove\",\n",
    "                       \"  › Blog › Political Transcripts › December Democratic Debate Transcript\":\"Remove\",\n",
    "                       \" Rev › Blog › Political Transcripts › Transcript of July Democratic Debate 2nd Round Night 1\":\"Remove\",\n",
    "                       \" Rev › Blog › Political Transcripts › Transcript of July Democratic Debate 2nd Round, Night 2\":\"Remove\",\n",
    "                       'Jake Tapper':\"Moderator\", 'Diana':\"Moderator\", 'Stephanie Sy':\"Moderator\",\n",
    "                       'Dana Bash':\"Moderator\", 'Don Lemon':\"Moderator\", 'Yamiche A.':\"Moderator\",\n",
    "                       'Anderson Cooper':\"Moderator\", 'John King':\"Moderator\", 'Henderson':\"Moderator\", \n",
    "                       'George S':\"Moderator\", 'Jorge Ramos':\"Moderator\",\n",
    "                       'David Muir':\"Moderator\", 'Lindsey Davis':\"Moderator\", 'George S.':\"Moderator\",\n",
    "                       'Erin Burnett':\"Moderator\", 'Marc Lacey':\"Moderator\", 'A. Cooper':\"Moderator\",\n",
    "                       'Andrea Mitchell':\"Moderator\", 'Kristen Welker':\"Moderator\", 'Ashley Parker':\"Moderator\",\n",
    "                       'Libby Casey':\"Moderator\", 'Judy Woodruff':\"Moderator\", 'Amy Walter':\"Moderator\",\n",
    "                       'Tim Alberta':\"Moderator\", 'Amna':\"Moderator\", 'Amna Nawaz':\"Moderator\", 'Yamiche':\"Moderator\", \n",
    "                       'Tim':\"Moderator\", 'Judy':\"Moderator\"\n",
    "                       \n",
    "                   }\n",
    "                }\n",
    "                      \n",
    "df.replace(name_variations, inplace=True)\n",
    "\n",
    "df = df[df['name']!='Remove']\n",
    "df = df[df['name']!='Other']"
   ]
  },
  {
   "cell_type": "markdown",
   "metadata": {},
   "source": [
    "# Pull out speech for just one candidate and transform into one string"
   ]
  },
  {
   "cell_type": "code",
   "execution_count": 4,
   "metadata": {},
   "outputs": [],
   "source": [
    "def getSpeech(name):\n",
    "    candidate = df[df['name']==name].reset_index()\n",
    "\n",
    "    # concat all rows of dialogue into one long string\n",
    "    candidateSpeech = \"\"\n",
    "\n",
    "    for row in range(0,len(candidate)):\n",
    "        candidateSpeech = candidateSpeech + \" \" + candidate['speech'][row]\n",
    "    return candidateSpeech\n",
    "    # remove puncutation and extra space\n",
    "    candidateSpeech = candidateSpeech.translate(str.maketrans('', '', string.punctuation))\n",
    "    candidateSpeech = candidateSpeech.strip(\" \")\n",
    "    \n",
    "    # remove stop words\n",
    "    stop_words = set(stopwords.words('english')) \n",
    "  \n",
    "    word_tokens = word_tokenize(candidateSpeech) \n",
    "\n",
    "    filtered_sentence = [w for w in word_tokens if not w in stop_words] \n",
    "\n",
    "    filtered_sentence = [] \n",
    "\n",
    "    for w in word_tokens: \n",
    "        if w not in stop_words: \n",
    "            filtered_sentence.append(w)\n",
    "            \n",
    "    # removing stop words transformed speech into a list\n",
    "    # convery back into one long string\n",
    "    return ' '.join(word.lower() for word in filtered_sentence)"
   ]
  },
  {
   "cell_type": "markdown",
   "metadata": {},
   "source": [
    "# Use only candidates who were in at least 3 debates:\n",
    "Biden, Warren, Sanders, Buttigieg, Harris, Klobuchar, Booker, O'Rourke, Castro, Yang, Gabbard, Steyer (and maybe Marianne Williamson for kicks)"
   ]
  },
  {
   "cell_type": "code",
   "execution_count": 7,
   "metadata": {},
   "outputs": [],
   "source": [
    "candidates = [\"Joe Biden\", \"Elizabeth Warren\", \"Bernie Sanders\", \"Pete Buttigieg\", \"Kamala Harris\", \"Amy Klobuchar\", \"Cory Booker\", \"Beto O'Rourke\", \"Julian Castro\", \"Andrew Yang\", \"Tulsi Gabbard\", \"Tom Steyer\"]\n",
    "candidates.sort()\n",
    "\n",
    "amy = getSpeech(\"Amy Klobuchar\")\n",
    "yang = getSpeech(\"Andrew Yang\")\n",
    "sanders = getSpeech(\"Bernie Sanders\")\n",
    "beto = getSpeech(\"Beto O’Rourke\")\n",
    "booker = getSpeech(\"Cory Booker\")\n",
    "warren = getSpeech(\"Elizabeth Warren\")\n",
    "biden = getSpeech(\"Joe Biden\")\n",
    "castro = getSpeech(\"Julián Castro\")\n",
    "harris = getSpeech(\"Kamala Harris\")\n",
    "buttigieg = getSpeech(\"Pete Buttigieg\")\n",
    "steyer = getSpeech(\"Tom Steyer\")\n",
    "gabbard = getSpeech(\"Tulsi Gabbard\")\n",
    "\n",
    "# also pulling in Trump transcripts (from 15 rallies held 2019-2020)\n",
    "trump = pd.read_csv(\"TrumpRallies.csv\")\n",
    "trump.replace({'President Trump':'Donald Trump'}, inplace=True)\n",
    "trump = getTrumpSpeech(\"Donald Trump\")\n",
    "\n",
    "corpus = {'Klobuchar': amy, 'Yang': yang, 'Sanders':sanders, 'Beto':beto, 'Booker':booker, 'Warren': warren, 'Biden':biden, 'Castro':castro, 'Harris':harris, 'Buttigieg':buttigieg, 'Steyer':steyer, 'Gabbard':gabbard, 'Trump':trump}"
   ]
  },
  {
   "cell_type": "code",
   "execution_count": 10,
   "metadata": {},
   "outputs": [],
   "source": [
    "# add additional stop words to the nltk list\n",
    "my_stop_words = text.ENGLISH_STOP_WORDS.union([\"donald\", \"trump\", \"ve\", \"got\"])\n",
    "\n",
    "# calc tf-idf for 3-word phrases\n",
    "tfidf = TfidfVectorizer(stop_words = my_stop_words, ngram_range=(3,3))\n",
    "tfs = tfidf.fit_transform(corpus.values())\n",
    "\n",
    "feature_names = tfidf.get_feature_names()\n",
    "corpus_index = [n for n in corpus]\n",
    "rows, cols = tfs.nonzero()\n",
    "\n",
    "data = pd.DataFrame(tfs.T.todense(), index=feature_names, columns=corpus_index)"
   ]
  },
  {
   "cell_type": "markdown",
   "metadata": {},
   "source": [
    "# Top tf-idf Phrases Of Various Candidates"
   ]
  },
  {
   "cell_type": "code",
   "execution_count": 18,
   "metadata": {},
   "outputs": [
    {
     "data": {
      "text/html": [
       "<div>\n",
       "<style scoped>\n",
       "    .dataframe tbody tr th:only-of-type {\n",
       "        vertical-align: middle;\n",
       "    }\n",
       "\n",
       "    .dataframe tbody tr th {\n",
       "        vertical-align: top;\n",
       "    }\n",
       "\n",
       "    .dataframe thead th {\n",
       "        text-align: right;\n",
       "    }\n",
       "</style>\n",
       "<table border=\"1\" class=\"dataframe\">\n",
       "  <thead>\n",
       "    <tr style=\"text-align: right;\">\n",
       "      <th></th>\n",
       "      <th>index</th>\n",
       "      <th>Biden</th>\n",
       "    </tr>\n",
       "  </thead>\n",
       "  <tbody>\n",
       "    <tr>\n",
       "      <th>0</th>\n",
       "      <td>violence women act</td>\n",
       "      <td>0.077353</td>\n",
       "    </tr>\n",
       "    <tr>\n",
       "      <th>1</th>\n",
       "      <td>united states america</td>\n",
       "      <td>0.060525</td>\n",
       "    </tr>\n",
       "    <tr>\n",
       "      <th>2</th>\n",
       "      <td>president united states</td>\n",
       "      <td>0.056408</td>\n",
       "    </tr>\n",
       "    <tr>\n",
       "      <th>3</th>\n",
       "      <td>united states senate</td>\n",
       "      <td>0.048506</td>\n",
       "    </tr>\n",
       "    <tr>\n",
       "      <th>4</th>\n",
       "      <td>160 million people</td>\n",
       "      <td>0.047648</td>\n",
       "    </tr>\n",
       "  </tbody>\n",
       "</table>\n",
       "</div>"
      ],
      "text/plain": [
       "                     index     Biden\n",
       "0       violence women act  0.077353\n",
       "1    united states america  0.060525\n",
       "2  president united states  0.056408\n",
       "3     united states senate  0.048506\n",
       "4       160 million people  0.047648"
      ]
     },
     "execution_count": 18,
     "metadata": {},
     "output_type": "execute_result"
    }
   ],
   "source": [
    "data.sort_values(\"Biden\",ascending=False).head(5)[\"Biden\"].reset_index()"
   ]
  },
  {
   "cell_type": "code",
   "execution_count": 17,
   "metadata": {},
   "outputs": [
    {
     "data": {
      "text/html": [
       "<div>\n",
       "<style scoped>\n",
       "    .dataframe tbody tr th:only-of-type {\n",
       "        vertical-align: middle;\n",
       "    }\n",
       "\n",
       "    .dataframe tbody tr th {\n",
       "        vertical-align: top;\n",
       "    }\n",
       "\n",
       "    .dataframe thead th {\n",
       "        text-align: right;\n",
       "    }\n",
       "</style>\n",
       "<table border=\"1\" class=\"dataframe\">\n",
       "  <thead>\n",
       "    <tr style=\"text-align: right;\">\n",
       "      <th></th>\n",
       "      <th>index</th>\n",
       "      <th>Sanders</th>\n",
       "    </tr>\n",
       "  </thead>\n",
       "  <tbody>\n",
       "    <tr>\n",
       "      <th>0</th>\n",
       "      <td>fossil fuel industry</td>\n",
       "      <td>0.143558</td>\n",
       "    </tr>\n",
       "    <tr>\n",
       "      <th>1</th>\n",
       "      <td>drug companies insurance</td>\n",
       "      <td>0.105276</td>\n",
       "    </tr>\n",
       "    <tr>\n",
       "      <th>2</th>\n",
       "      <td>companies insurance companies</td>\n",
       "      <td>0.093354</td>\n",
       "    </tr>\n",
       "    <tr>\n",
       "      <th>3</th>\n",
       "      <td>major country earth</td>\n",
       "      <td>0.088784</td>\n",
       "    </tr>\n",
       "    <tr>\n",
       "      <th>4</th>\n",
       "      <td>public colleges universities</td>\n",
       "      <td>0.088784</td>\n",
       "    </tr>\n",
       "  </tbody>\n",
       "</table>\n",
       "</div>"
      ],
      "text/plain": [
       "                           index   Sanders\n",
       "0           fossil fuel industry  0.143558\n",
       "1       drug companies insurance  0.105276\n",
       "2  companies insurance companies  0.093354\n",
       "3            major country earth  0.088784\n",
       "4   public colleges universities  0.088784"
      ]
     },
     "execution_count": 17,
     "metadata": {},
     "output_type": "execute_result"
    }
   ],
   "source": [
    "data.sort_values(\"Sanders\",ascending=False).head(5)[\"Sanders\"].reset_index()"
   ]
  },
  {
   "cell_type": "code",
   "execution_count": 19,
   "metadata": {},
   "outputs": [
    {
     "data": {
      "text/html": [
       "<div>\n",
       "<style scoped>\n",
       "    .dataframe tbody tr th:only-of-type {\n",
       "        vertical-align: middle;\n",
       "    }\n",
       "\n",
       "    .dataframe tbody tr th {\n",
       "        vertical-align: top;\n",
       "    }\n",
       "\n",
       "    .dataframe thead th {\n",
       "        text-align: right;\n",
       "    }\n",
       "</style>\n",
       "<table border=\"1\" class=\"dataframe\">\n",
       "  <thead>\n",
       "    <tr style=\"text-align: right;\">\n",
       "      <th></th>\n",
       "      <th>index</th>\n",
       "      <th>Warren</th>\n",
       "    </tr>\n",
       "  </thead>\n",
       "  <tbody>\n",
       "    <tr>\n",
       "      <th>0</th>\n",
       "      <td>student loan debt</td>\n",
       "      <td>0.135557</td>\n",
       "    </tr>\n",
       "    <tr>\n",
       "      <th>1</th>\n",
       "      <td>middle class families</td>\n",
       "      <td>0.102947</td>\n",
       "    </tr>\n",
       "    <tr>\n",
       "      <th>2</th>\n",
       "      <td>public school teacher</td>\n",
       "      <td>0.072489</td>\n",
       "    </tr>\n",
       "    <tr>\n",
       "      <th>3</th>\n",
       "      <td>cent wealth tax</td>\n",
       "      <td>0.072489</td>\n",
       "    </tr>\n",
       "    <tr>\n",
       "      <th>4</th>\n",
       "      <td>giant multinational corporations</td>\n",
       "      <td>0.062134</td>\n",
       "    </tr>\n",
       "  </tbody>\n",
       "</table>\n",
       "</div>"
      ],
      "text/plain": [
       "                              index    Warren\n",
       "0                 student loan debt  0.135557\n",
       "1             middle class families  0.102947\n",
       "2             public school teacher  0.072489\n",
       "3                   cent wealth tax  0.072489\n",
       "4  giant multinational corporations  0.062134"
      ]
     },
     "execution_count": 19,
     "metadata": {},
     "output_type": "execute_result"
    }
   ],
   "source": [
    "data.sort_values(\"Warren\",ascending=False).head(5)[\"Warren\"].reset_index()"
   ]
  },
  {
   "cell_type": "code",
   "execution_count": 20,
   "metadata": {},
   "outputs": [
    {
     "data": {
      "text/html": [
       "<div>\n",
       "<style scoped>\n",
       "    .dataframe tbody tr th:only-of-type {\n",
       "        vertical-align: middle;\n",
       "    }\n",
       "\n",
       "    .dataframe tbody tr th {\n",
       "        vertical-align: top;\n",
       "    }\n",
       "\n",
       "    .dataframe thead th {\n",
       "        text-align: right;\n",
       "    }\n",
       "</style>\n",
       "<table border=\"1\" class=\"dataframe\">\n",
       "  <thead>\n",
       "    <tr style=\"text-align: right;\">\n",
       "      <th></th>\n",
       "      <th>index</th>\n",
       "      <th>Klobuchar</th>\n",
       "    </tr>\n",
       "  </thead>\n",
       "  <tbody>\n",
       "    <tr>\n",
       "      <th>0</th>\n",
       "      <td>like poker chips</td>\n",
       "      <td>0.048834</td>\n",
       "    </tr>\n",
       "    <tr>\n",
       "      <th>1</th>\n",
       "      <td>barack obama wanted</td>\n",
       "      <td>0.048834</td>\n",
       "    </tr>\n",
       "    <tr>\n",
       "      <th>2</th>\n",
       "      <td>bills lead democrat</td>\n",
       "      <td>0.048834</td>\n",
       "    </tr>\n",
       "    <tr>\n",
       "      <th>3</th>\n",
       "      <td>long term care</td>\n",
       "      <td>0.042113</td>\n",
       "    </tr>\n",
       "    <tr>\n",
       "      <th>4</th>\n",
       "      <td>universal background checks</td>\n",
       "      <td>0.038278</td>\n",
       "    </tr>\n",
       "  </tbody>\n",
       "</table>\n",
       "</div>"
      ],
      "text/plain": [
       "                         index  Klobuchar\n",
       "0             like poker chips   0.048834\n",
       "1          barack obama wanted   0.048834\n",
       "2          bills lead democrat   0.048834\n",
       "3               long term care   0.042113\n",
       "4  universal background checks   0.038278"
      ]
     },
     "execution_count": 20,
     "metadata": {},
     "output_type": "execute_result"
    }
   ],
   "source": [
    "data.sort_values(\"Klobuchar\",ascending=False).head(5)[\"Klobuchar\"].reset_index()"
   ]
  }
 ],
 "metadata": {
  "kernelspec": {
   "display_name": "Python 3",
   "language": "python",
   "name": "python3"
  },
  "language_info": {
   "codemirror_mode": {
    "name": "ipython",
    "version": 3
   },
   "file_extension": ".py",
   "mimetype": "text/x-python",
   "name": "python",
   "nbconvert_exporter": "python",
   "pygments_lexer": "ipython3",
   "version": "3.7.3"
  }
 },
 "nbformat": 4,
 "nbformat_minor": 2
}
